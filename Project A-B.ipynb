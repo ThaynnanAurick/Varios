{
 "cells": [
  {
   "cell_type": "markdown",
   "id": "14211453",
   "metadata": {},
   "source": [
    "<div>\n",
    "Olá, Thaynnan!\n",
    "\n",
    "Meu nome é Luiz. Fico feliz em revisar seu projeto. Ao longo do texto farei algumas observações sobre melhorias no código e também farei comentários sobre suas percepções sobre o assunto. Estarei aberto a feedbacks e discussões sobre o tema.\n",
    "\n",
    "**Peço que mantenha e não altere os comentários que eu fizer por aqui para que possamos nos localizar posteriormente, ok?**\n",
    "\n",
    "Mais uma coisa, vamos utilizar um código de cores para você entender o meu feedback no seu notebook. Funciona assim:\n",
    "\n",
    "<div class=\"alert alert-block alert-success\">\n",
    "<b> Comentário do revisor: </b> <a class=\"tocSkip\"></a>\n",
    "\n",
    "Sucesso. Tudo foi feito corretamente.\n",
    "</div>\n",
    "\n",
    "<div class=\"alert alert-block alert-warning\">\n",
    "<b>Comentário do revisor: </b> <a class=\"tocSkip\"></a>\n",
    "\n",
    "Alerta não crítico, mas que pode ser corrigido para melhoria geral no seu código/análise.\n",
    "</div>\n",
    "\n",
    "<div class=\"alert alert-block alert-danger\">\n",
    "\n",
    "<b>Comentário do revisor: </b> <a class=\"tocSkip\"></a>\n",
    "    \n",
    "Erro que precisa ser arrumado, caso contrário seu projeto **não** será aceito.\n",
    "</div>\n",
    "\n",
    "Você pode interagir comigo através dessa célula:\n",
    "<div class=\"alert alert-block alert-info\">\n",
    "<b>Resposta do Aluno.</b> <a class=\"tocSkip\"></a>\n",
    "</div>"
   ]
  },
  {
   "cell_type": "markdown",
   "id": "ecf3d3d0",
   "metadata": {},
   "source": [
    "<div class=\"alert alert-block alert-danger\">\n",
    "<b> Comentário geral do revisor v1</b> <a class=\"tocSkip\"></a>\n",
    "<s>\n",
    "    \n",
    "Obrigado por enviar o seu projeto e pelo esforço de chegar até aqui. O seu projeto possui alguns pontos bem interessantes, dos quais eu destaco:\n",
    "    \n",
    "- Código bem simples e estruturado \n",
    "- Conclusões pertinentes em cada análise e etapa de avaliação\n",
    "- Análises bem detalhadas em cada etapa do projeto\n",
    "    \n",
    "Entretanto, deixei alguns comentários em alguns trechos que precisam de ajuste. Peço que trabalhe nesses pontos para avançarmos.\n",
    "    \n",
    "Qualquer dúvida, pode contar comigo.   \n",
    "    \n",
    "    \n",
    "**Até breve!**\n",
    "</s>\n",
    "</div>"
   ]
  },
  {
   "cell_type": "markdown",
   "id": "b6b2d558-73ee-4bf1-8a27-088503eac7db",
   "metadata": {},
   "source": [
    "<div class=\"alert alert-block alert-success\">\n",
    "<b> Comentário geral do revisor</b> <a class=\"tocSkip\"></a>\n",
    "\n",
    "Obrigado por enviar o seu projeto e fazer os ajustes sugeridos. Essa versão do seu trabalho ficou muito melhor! Espero que as sugestões sejam relevantes para projetos futuros.\n",
    "    \n",
    "<br>\n",
    "Te desejo uma jornada de muito sucesso e aprendizado.\n",
    "    \n",
    "<br>   \n",
    "    \n",
    "Qualquer dúvida, pode contar comigo.   \n",
    "    \n",
    "<br>  \n",
    "    \n",
    "**Até breve!**\n",
    "\n",
    "</div>"
   ]
  },
  {
   "cell_type": "markdown",
   "id": "024a225a-66b4-496b-8724-a9da52637487",
   "metadata": {},
   "source": [
    "# Teste A/B do Projeto final"
   ]
  },
  {
   "cell_type": "markdown",
   "id": "c7c97efb-c0d7-4833-a73a-554da699ec97",
   "metadata": {},
   "source": [
    "Autor: Thaynnan Aurick"
   ]
  },
  {
   "cell_type": "markdown",
   "id": "b6bb0e72-665e-462d-a223-1fb47e73a2d9",
   "metadata": {},
   "source": [
    "Data: 29/04/2025"
   ]
  },
  {
   "cell_type": "markdown",
   "id": "806a2950-2956-4513-8967-98a13fea2b55",
   "metadata": {},
   "source": [
    "# Bibliotecas."
   ]
  },
  {
   "cell_type": "code",
   "execution_count": 89,
   "id": "ce567f45-f475-4c4a-a2e3-90448aa79428",
   "metadata": {},
   "outputs": [],
   "source": [
    "import pandas as pd\n",
    "import matplotlib.pyplot as plt\n",
    "from scipy import stats\n",
    "from statsmodels.stats.proportion import proportions_ztest\n",
    "import seaborn as sns\n",
    "import numpy as np\n",
    "from scipy.stats import f_oneway\n",
    "from scipy.stats import chi2_contingency\n",
    "import plotly.graph_objects as go\n",
    "from IPython.display import display"
   ]
  },
  {
   "cell_type": "markdown",
   "id": "9dac0ea8-525e-429f-badc-f0697ba7ed75",
   "metadata": {},
   "source": [
    "# Carrendo dados."
   ]
  },
  {
   "cell_type": "code",
   "execution_count": 90,
   "id": "bf9c5cbd-04c4-4018-bdd4-0fb401982a72",
   "metadata": {},
   "outputs": [],
   "source": [
    "project_marketing = pd.read_csv('/datasets/ab_project_marketing_events_us.csv')\n",
    "new_users = pd.read_csv('/datasets/final_ab_new_users_upd_us.csv')\n",
    "events = pd.read_csv('/datasets/final_ab_events_upd_us.csv')\n",
    "participants =pd.read_csv('/datasets/final_ab_participants_upd_us.csv')"
   ]
  },
  {
   "cell_type": "markdown",
   "id": "6990ab9d",
   "metadata": {},
   "source": [
    "<div class=\"alert alert-block alert-danger\">\n",
    "<b> Comentário do revisor: </b> <a class=\"tocSkip\"></a>\n",
    "    \n",
    "Aqui você precisa carregar os dados a partir do servidor do curso, caso contrário eu não conseguirei executar o seu código.\n",
    "</div>"
   ]
  },
  {
   "cell_type": "markdown",
   "id": "90957ec1-663d-4ae3-8ec9-88f3b0dd41eb",
   "metadata": {},
   "source": [
    "# Verificando dados."
   ]
  },
  {
   "cell_type": "code",
   "execution_count": 91,
   "id": "b77c7f54-023b-48e0-8efa-a32adaaf517e",
   "metadata": {
    "scrolled": true
   },
   "outputs": [
    {
     "name": "stdout",
     "output_type": "stream",
     "text": [
      "<class 'pandas.core.frame.DataFrame'>\n",
      "RangeIndex: 14 entries, 0 to 13\n",
      "Data columns (total 4 columns):\n",
      " #   Column     Non-Null Count  Dtype \n",
      "---  ------     --------------  ----- \n",
      " 0   name       14 non-null     object\n",
      " 1   regions    14 non-null     object\n",
      " 2   start_dt   14 non-null     object\n",
      " 3   finish_dt  14 non-null     object\n",
      "dtypes: object(4)\n",
      "memory usage: 576.0+ bytes\n"
     ]
    }
   ],
   "source": [
    "project_marketing.info()"
   ]
  },
  {
   "cell_type": "markdown",
   "id": "3dbcd620-d0f2-4f6a-ad45-f1033a038593",
   "metadata": {},
   "source": [
    "A coluna \"start_dt\" e \"finish_dt\" se encontram no tipo \"object\" quando deveriam ser \"datetime\""
   ]
  },
  {
   "cell_type": "code",
   "execution_count": 92,
   "id": "c6808a76-75d2-4772-8ead-37b8ebedb633",
   "metadata": {},
   "outputs": [
    {
     "name": "stdout",
     "output_type": "stream",
     "text": [
      "<class 'pandas.core.frame.DataFrame'>\n",
      "RangeIndex: 58703 entries, 0 to 58702\n",
      "Data columns (total 4 columns):\n",
      " #   Column      Non-Null Count  Dtype \n",
      "---  ------      --------------  ----- \n",
      " 0   user_id     58703 non-null  object\n",
      " 1   first_date  58703 non-null  object\n",
      " 2   region      58703 non-null  object\n",
      " 3   device      58703 non-null  object\n",
      "dtypes: object(4)\n",
      "memory usage: 1.8+ MB\n"
     ]
    }
   ],
   "source": [
    "new_users.info()"
   ]
  },
  {
   "cell_type": "markdown",
   "id": "2ccf02aa-dfa4-4c51-87fd-2e991ba87182",
   "metadata": {},
   "source": [
    "A coluna \"event_dt\" se encontra no tipo \"object\" quando deveriam ser \"datetime\" e tambem foram encontrados alguns valores nulos na coluna de \"details\"."
   ]
  },
  {
   "cell_type": "code",
   "execution_count": 93,
   "id": "db1bdc61-051f-459f-9a72-229f35980c6d",
   "metadata": {},
   "outputs": [
    {
     "name": "stdout",
     "output_type": "stream",
     "text": [
      "<class 'pandas.core.frame.DataFrame'>\n",
      "RangeIndex: 423761 entries, 0 to 423760\n",
      "Data columns (total 4 columns):\n",
      " #   Column      Non-Null Count   Dtype  \n",
      "---  ------      --------------   -----  \n",
      " 0   user_id     423761 non-null  object \n",
      " 1   event_dt    423761 non-null  object \n",
      " 2   event_name  423761 non-null  object \n",
      " 3   details     60314 non-null   float64\n",
      "dtypes: float64(1), object(3)\n",
      "memory usage: 12.9+ MB\n"
     ]
    }
   ],
   "source": [
    "events.info()"
   ]
  },
  {
   "cell_type": "markdown",
   "id": "3ec34970-c4ac-425f-ae0a-9230d682557f",
   "metadata": {},
   "source": [
    "A coluna \"first_date\" se encontra no tipo \"object\" quando deveriam ser \"datetime\""
   ]
  },
  {
   "cell_type": "code",
   "execution_count": 94,
   "id": "137deaf2-f8cd-41c4-9d9f-c68174d627ff",
   "metadata": {},
   "outputs": [
    {
     "name": "stdout",
     "output_type": "stream",
     "text": [
      "<class 'pandas.core.frame.DataFrame'>\n",
      "RangeIndex: 14525 entries, 0 to 14524\n",
      "Data columns (total 3 columns):\n",
      " #   Column   Non-Null Count  Dtype \n",
      "---  ------   --------------  ----- \n",
      " 0   user_id  14525 non-null  object\n",
      " 1   group    14525 non-null  object\n",
      " 2   ab_test  14525 non-null  object\n",
      "dtypes: object(3)\n",
      "memory usage: 340.6+ KB\n"
     ]
    }
   ],
   "source": [
    "participants.info()"
   ]
  },
  {
   "cell_type": "markdown",
   "id": "dae7a3de-0be0-4d40-ba8e-2d280d159a19",
   "metadata": {},
   "source": [
    "A coluna \"first_date\" se encontra no tipo \"object\" quando deveriam ser \"datetime\""
   ]
  },
  {
   "cell_type": "markdown",
   "id": "2d587c7d",
   "metadata": {},
   "source": [
    "<div class=\"alert alert-block alert-warning\">\n",
    "<b> Comentário do revisor: </b> <a class=\"tocSkip\"></a>\n",
    "    \n",
    "- O método `head()` foi utilizado para exibir uma amostra inicial dos seus dados\n",
    "- O método `info()` foi utilizado para estudo inicial do conjunto de dados\n",
    "- Todos os conjuntos de dados foram explorados\n",
    "- Aqui você poderia também fazer um estudo de valores nulos/ausentes.\n",
    "\n",
    "</div>"
   ]
  },
  {
   "cell_type": "markdown",
   "id": "fa961df7-c130-4542-bf0d-645176f1fb34",
   "metadata": {},
   "source": [
    "# Explorando dados."
   ]
  },
  {
   "cell_type": "code",
   "execution_count": 95,
   "id": "a04c3ee9-9651-48c7-bfa8-dd6a0c4981e7",
   "metadata": {},
   "outputs": [
    {
     "name": "stdout",
     "output_type": "stream",
     "text": [
      "<class 'pandas.core.frame.DataFrame'>\n",
      "RangeIndex: 14 entries, 0 to 13\n",
      "Data columns (total 4 columns):\n",
      " #   Column     Non-Null Count  Dtype         \n",
      "---  ------     --------------  -----         \n",
      " 0   name       14 non-null     object        \n",
      " 1   regions    14 non-null     object        \n",
      " 2   start_dt   14 non-null     datetime64[ns]\n",
      " 3   finish_dt  14 non-null     datetime64[ns]\n",
      "dtypes: datetime64[ns](2), object(2)\n",
      "memory usage: 576.0+ bytes\n"
     ]
    }
   ],
   "source": [
    "project_marketing['start_dt'] = pd.to_datetime(project_marketing['start_dt'], errors='coerce')\n",
    "project_marketing['finish_dt'] = pd.to_datetime(project_marketing['finish_dt'], errors='coerce')\n",
    "project_marketing.info()# Sanity check"
   ]
  },
  {
   "cell_type": "code",
   "execution_count": null,
   "id": "a140506a-3b52-49f5-a38e-e98d699e9de9",
   "metadata": {},
   "outputs": [],
   "source": []
  },
  {
   "cell_type": "code",
   "execution_count": 96,
   "id": "d69ffb80-2689-4425-b39d-44da8bb53a98",
   "metadata": {},
   "outputs": [
    {
     "data": {
      "text/html": [
       "<div>\n",
       "<style scoped>\n",
       "    .dataframe tbody tr th:only-of-type {\n",
       "        vertical-align: middle;\n",
       "    }\n",
       "\n",
       "    .dataframe tbody tr th {\n",
       "        vertical-align: top;\n",
       "    }\n",
       "\n",
       "    .dataframe thead th {\n",
       "        text-align: right;\n",
       "    }\n",
       "</style>\n",
       "<table border=\"1\" class=\"dataframe\">\n",
       "  <thead>\n",
       "    <tr style=\"text-align: right;\">\n",
       "      <th></th>\n",
       "      <th>user_id</th>\n",
       "      <th>first_date</th>\n",
       "      <th>region</th>\n",
       "      <th>device</th>\n",
       "    </tr>\n",
       "  </thead>\n",
       "  <tbody>\n",
       "    <tr>\n",
       "      <th>0</th>\n",
       "      <td>D72A72121175D8BE</td>\n",
       "      <td>2020-12-07</td>\n",
       "      <td>EU</td>\n",
       "      <td>PC</td>\n",
       "    </tr>\n",
       "    <tr>\n",
       "      <th>1</th>\n",
       "      <td>F1C668619DFE6E65</td>\n",
       "      <td>2020-12-07</td>\n",
       "      <td>N.America</td>\n",
       "      <td>Android</td>\n",
       "    </tr>\n",
       "    <tr>\n",
       "      <th>2</th>\n",
       "      <td>2E1BF1D4C37EA01F</td>\n",
       "      <td>2020-12-07</td>\n",
       "      <td>EU</td>\n",
       "      <td>PC</td>\n",
       "    </tr>\n",
       "    <tr>\n",
       "      <th>3</th>\n",
       "      <td>50734A22C0C63768</td>\n",
       "      <td>2020-12-07</td>\n",
       "      <td>EU</td>\n",
       "      <td>iPhone</td>\n",
       "    </tr>\n",
       "    <tr>\n",
       "      <th>4</th>\n",
       "      <td>E1BDDCE0DAFA2679</td>\n",
       "      <td>2020-12-07</td>\n",
       "      <td>N.America</td>\n",
       "      <td>iPhone</td>\n",
       "    </tr>\n",
       "  </tbody>\n",
       "</table>\n",
       "</div>"
      ],
      "text/plain": [
       "            user_id  first_date     region   device\n",
       "0  D72A72121175D8BE  2020-12-07         EU       PC\n",
       "1  F1C668619DFE6E65  2020-12-07  N.America  Android\n",
       "2  2E1BF1D4C37EA01F  2020-12-07         EU       PC\n",
       "3  50734A22C0C63768  2020-12-07         EU   iPhone\n",
       "4  E1BDDCE0DAFA2679  2020-12-07  N.America   iPhone"
      ]
     },
     "execution_count": 96,
     "metadata": {},
     "output_type": "execute_result"
    }
   ],
   "source": [
    "new_users.head()"
   ]
  },
  {
   "cell_type": "code",
   "execution_count": 97,
   "id": "13ef9266-727f-4e2e-80cb-9229b588ca40",
   "metadata": {},
   "outputs": [
    {
     "name": "stdout",
     "output_type": "stream",
     "text": [
      "<class 'pandas.core.frame.DataFrame'>\n",
      "RangeIndex: 58703 entries, 0 to 58702\n",
      "Data columns (total 4 columns):\n",
      " #   Column      Non-Null Count  Dtype         \n",
      "---  ------      --------------  -----         \n",
      " 0   user_id     58703 non-null  object        \n",
      " 1   first_date  58703 non-null  datetime64[ns]\n",
      " 2   region      58703 non-null  object        \n",
      " 3   device      58703 non-null  object        \n",
      "dtypes: datetime64[ns](1), object(3)\n",
      "memory usage: 1.8+ MB\n"
     ]
    }
   ],
   "source": [
    "new_users['first_date'] = pd.to_datetime(new_users['first_date'], errors='coerce')\n",
    "new_users.info()# Sanity Check"
   ]
  },
  {
   "cell_type": "code",
   "execution_count": 98,
   "id": "af3e5a67-0d9b-42ab-b5d7-b0d5c3ea9111",
   "metadata": {},
   "outputs": [
    {
     "name": "stdout",
     "output_type": "stream",
     "text": [
      "<class 'pandas.core.frame.DataFrame'>\n",
      "RangeIndex: 423761 entries, 0 to 423760\n",
      "Data columns (total 4 columns):\n",
      " #   Column      Non-Null Count   Dtype         \n",
      "---  ------      --------------   -----         \n",
      " 0   user_id     423761 non-null  object        \n",
      " 1   event_dt    423761 non-null  datetime64[ns]\n",
      " 2   event_name  423761 non-null  object        \n",
      " 3   details     60314 non-null   float64       \n",
      "dtypes: datetime64[ns](1), float64(1), object(2)\n",
      "memory usage: 12.9+ MB\n"
     ]
    }
   ],
   "source": [
    "events['event_dt'] = pd.to_datetime(events['event_dt'], errors='coerce')\n",
    "events.info()# Sanity Check"
   ]
  },
  {
   "cell_type": "code",
   "execution_count": 99,
   "id": "8381a2d6-9264-4178-b552-910d6a5a8030",
   "metadata": {},
   "outputs": [
    {
     "data": {
      "text/html": [
       "<div>\n",
       "<style scoped>\n",
       "    .dataframe tbody tr th:only-of-type {\n",
       "        vertical-align: middle;\n",
       "    }\n",
       "\n",
       "    .dataframe tbody tr th {\n",
       "        vertical-align: top;\n",
       "    }\n",
       "\n",
       "    .dataframe thead th {\n",
       "        text-align: right;\n",
       "    }\n",
       "</style>\n",
       "<table border=\"1\" class=\"dataframe\">\n",
       "  <thead>\n",
       "    <tr style=\"text-align: right;\">\n",
       "      <th></th>\n",
       "      <th>user_id</th>\n",
       "      <th>event_dt</th>\n",
       "      <th>event_name</th>\n",
       "      <th>details</th>\n",
       "    </tr>\n",
       "  </thead>\n",
       "  <tbody>\n",
       "    <tr>\n",
       "      <th>60314</th>\n",
       "      <td>2E1BF1D4C37EA01F</td>\n",
       "      <td>2020-12-07 09:05:47</td>\n",
       "      <td>product_cart</td>\n",
       "      <td>NaN</td>\n",
       "    </tr>\n",
       "    <tr>\n",
       "      <th>60315</th>\n",
       "      <td>50734A22C0C63768</td>\n",
       "      <td>2020-12-07 13:24:03</td>\n",
       "      <td>product_cart</td>\n",
       "      <td>NaN</td>\n",
       "    </tr>\n",
       "    <tr>\n",
       "      <th>60316</th>\n",
       "      <td>5EB159DA9DC94DBA</td>\n",
       "      <td>2020-12-07 22:54:02</td>\n",
       "      <td>product_cart</td>\n",
       "      <td>NaN</td>\n",
       "    </tr>\n",
       "    <tr>\n",
       "      <th>60317</th>\n",
       "      <td>084A22B980BA8169</td>\n",
       "      <td>2020-12-07 15:25:55</td>\n",
       "      <td>product_cart</td>\n",
       "      <td>NaN</td>\n",
       "    </tr>\n",
       "    <tr>\n",
       "      <th>60318</th>\n",
       "      <td>0FC21E6F8FAA8DEC</td>\n",
       "      <td>2020-12-07 06:56:27</td>\n",
       "      <td>product_cart</td>\n",
       "      <td>NaN</td>\n",
       "    </tr>\n",
       "  </tbody>\n",
       "</table>\n",
       "</div>"
      ],
      "text/plain": [
       "                user_id            event_dt    event_name  details\n",
       "60314  2E1BF1D4C37EA01F 2020-12-07 09:05:47  product_cart      NaN\n",
       "60315  50734A22C0C63768 2020-12-07 13:24:03  product_cart      NaN\n",
       "60316  5EB159DA9DC94DBA 2020-12-07 22:54:02  product_cart      NaN\n",
       "60317  084A22B980BA8169 2020-12-07 15:25:55  product_cart      NaN\n",
       "60318  0FC21E6F8FAA8DEC 2020-12-07 06:56:27  product_cart      NaN"
      ]
     },
     "execution_count": 99,
     "metadata": {},
     "output_type": "execute_result"
    }
   ],
   "source": [
    "linhas_com_nulos = events[events['details'].isnull()]\n",
    "linhas_com_nulos.head()"
   ]
  },
  {
   "cell_type": "code",
   "execution_count": 100,
   "id": "4793dd80-f336-4833-855b-e1e9e4482d5d",
   "metadata": {},
   "outputs": [],
   "source": [
    "purchase_events = events[events['event_name'] == 'purchase'].copy()"
   ]
  },
  {
   "cell_type": "code",
   "execution_count": 101,
   "id": "3bb9ed95-c019-4825-ba60-b4a1836e45c5",
   "metadata": {},
   "outputs": [],
   "source": [
    "# Apagando a coluna \"details\" ja que a mesma tem muitos valores ausentes.\n",
    "events.drop(columns=['details'], inplace=True)"
   ]
  },
  {
   "cell_type": "code",
   "execution_count": 102,
   "id": "e5e51701-4373-4a2e-a685-a12114a003a9",
   "metadata": {},
   "outputs": [
    {
     "data": {
      "text/html": [
       "<div>\n",
       "<style scoped>\n",
       "    .dataframe tbody tr th:only-of-type {\n",
       "        vertical-align: middle;\n",
       "    }\n",
       "\n",
       "    .dataframe tbody tr th {\n",
       "        vertical-align: top;\n",
       "    }\n",
       "\n",
       "    .dataframe thead th {\n",
       "        text-align: right;\n",
       "    }\n",
       "</style>\n",
       "<table border=\"1\" class=\"dataframe\">\n",
       "  <thead>\n",
       "    <tr style=\"text-align: right;\">\n",
       "      <th></th>\n",
       "      <th>user_id</th>\n",
       "      <th>first_date</th>\n",
       "      <th>region</th>\n",
       "      <th>device</th>\n",
       "    </tr>\n",
       "  </thead>\n",
       "  <tbody>\n",
       "    <tr>\n",
       "      <th>0</th>\n",
       "      <td>D72A72121175D8BE</td>\n",
       "      <td>2020-12-07</td>\n",
       "      <td>EU</td>\n",
       "      <td>PC</td>\n",
       "    </tr>\n",
       "    <tr>\n",
       "      <th>1</th>\n",
       "      <td>F1C668619DFE6E65</td>\n",
       "      <td>2020-12-07</td>\n",
       "      <td>N.America</td>\n",
       "      <td>Android</td>\n",
       "    </tr>\n",
       "    <tr>\n",
       "      <th>2</th>\n",
       "      <td>2E1BF1D4C37EA01F</td>\n",
       "      <td>2020-12-07</td>\n",
       "      <td>EU</td>\n",
       "      <td>PC</td>\n",
       "    </tr>\n",
       "    <tr>\n",
       "      <th>3</th>\n",
       "      <td>50734A22C0C63768</td>\n",
       "      <td>2020-12-07</td>\n",
       "      <td>EU</td>\n",
       "      <td>iPhone</td>\n",
       "    </tr>\n",
       "    <tr>\n",
       "      <th>4</th>\n",
       "      <td>E1BDDCE0DAFA2679</td>\n",
       "      <td>2020-12-07</td>\n",
       "      <td>N.America</td>\n",
       "      <td>iPhone</td>\n",
       "    </tr>\n",
       "  </tbody>\n",
       "</table>\n",
       "</div>"
      ],
      "text/plain": [
       "            user_id first_date     region   device\n",
       "0  D72A72121175D8BE 2020-12-07         EU       PC\n",
       "1  F1C668619DFE6E65 2020-12-07  N.America  Android\n",
       "2  2E1BF1D4C37EA01F 2020-12-07         EU       PC\n",
       "3  50734A22C0C63768 2020-12-07         EU   iPhone\n",
       "4  E1BDDCE0DAFA2679 2020-12-07  N.America   iPhone"
      ]
     },
     "execution_count": 102,
     "metadata": {},
     "output_type": "execute_result"
    }
   ],
   "source": [
    "new_users.head()# Sanity Check"
   ]
  },
  {
   "cell_type": "markdown",
   "id": "3b1b48ee-9120-4615-9be3-928b9ca64517",
   "metadata": {},
   "source": [
    "* Estude a conversão em diferentes etapas do funil."
   ]
  },
  {
   "cell_type": "code",
   "execution_count": 103,
   "id": "fb2b1246-fe6c-49c8-a1fa-76e53640b7b2",
   "metadata": {},
   "outputs": [
    {
     "data": {
      "application/vnd.plotly.v1+json": {
       "config": {
        "plotlyServerURL": "https://plot.ly"
       },
       "data": [
        {
         "connector": {
          "line": {
           "color": "royalblue",
           "dash": "dot",
           "width": 2
          }
         },
         "marker": {
          "color": [
           "#4e79a7",
           "#f28e2b",
           "#e15759",
           "#76b7b2",
           "#59a14f"
          ],
          "line": {
           "color": [
            "white"
           ],
           "width": [
            1,
            1,
            1,
            1,
            1
           ]
          }
         },
         "opacity": 0.8,
         "textfont": {
          "color": "white",
          "family": "Arial",
          "size": 14
         },
         "textinfo": "value+percent initial",
         "type": "funnel",
         "x": [
          58703,
          58696,
          38929,
          19284,
          19568
         ],
         "y": [
          "Visitantes",
          "Login",
          "Página do Produto",
          "Carrinho",
          "Compra"
         ]
        }
       ],
       "layout": {
        "annotations": [
         {
          "font": {
           "size": 12
          },
          "showarrow": false,
          "text": "100.0%",
          "x": 29351.5,
          "y": 0.5
         },
         {
          "font": {
           "size": 12
          },
          "showarrow": false,
          "text": "66.3%",
          "x": 29348,
          "y": 1.5
         },
         {
          "font": {
           "size": 12
          },
          "showarrow": false,
          "text": "49.5%",
          "x": 19464.5,
          "y": 2.5
         },
         {
          "font": {
           "size": 12
          },
          "showarrow": false,
          "text": "101.5%",
          "x": 9642,
          "y": 3.5
         }
        ],
        "height": 600,
        "margin": {
         "b": 100,
         "l": 100,
         "r": 100,
         "t": 100
        },
        "plot_bgcolor": "white",
        "showlegend": false,
        "template": {
         "data": {
          "bar": [
           {
            "error_x": {
             "color": "#2a3f5f"
            },
            "error_y": {
             "color": "#2a3f5f"
            },
            "marker": {
             "line": {
              "color": "#E5ECF6",
              "width": 0.5
             },
             "pattern": {
              "fillmode": "overlay",
              "size": 10,
              "solidity": 0.2
             }
            },
            "type": "bar"
           }
          ],
          "barpolar": [
           {
            "marker": {
             "line": {
              "color": "#E5ECF6",
              "width": 0.5
             },
             "pattern": {
              "fillmode": "overlay",
              "size": 10,
              "solidity": 0.2
             }
            },
            "type": "barpolar"
           }
          ],
          "carpet": [
           {
            "aaxis": {
             "endlinecolor": "#2a3f5f",
             "gridcolor": "white",
             "linecolor": "white",
             "minorgridcolor": "white",
             "startlinecolor": "#2a3f5f"
            },
            "baxis": {
             "endlinecolor": "#2a3f5f",
             "gridcolor": "white",
             "linecolor": "white",
             "minorgridcolor": "white",
             "startlinecolor": "#2a3f5f"
            },
            "type": "carpet"
           }
          ],
          "choropleth": [
           {
            "colorbar": {
             "outlinewidth": 0,
             "ticks": ""
            },
            "type": "choropleth"
           }
          ],
          "contour": [
           {
            "colorbar": {
             "outlinewidth": 0,
             "ticks": ""
            },
            "colorscale": [
             [
              0,
              "#0d0887"
             ],
             [
              0.1111111111111111,
              "#46039f"
             ],
             [
              0.2222222222222222,
              "#7201a8"
             ],
             [
              0.3333333333333333,
              "#9c179e"
             ],
             [
              0.4444444444444444,
              "#bd3786"
             ],
             [
              0.5555555555555556,
              "#d8576b"
             ],
             [
              0.6666666666666666,
              "#ed7953"
             ],
             [
              0.7777777777777778,
              "#fb9f3a"
             ],
             [
              0.8888888888888888,
              "#fdca26"
             ],
             [
              1,
              "#f0f921"
             ]
            ],
            "type": "contour"
           }
          ],
          "contourcarpet": [
           {
            "colorbar": {
             "outlinewidth": 0,
             "ticks": ""
            },
            "type": "contourcarpet"
           }
          ],
          "heatmap": [
           {
            "colorbar": {
             "outlinewidth": 0,
             "ticks": ""
            },
            "colorscale": [
             [
              0,
              "#0d0887"
             ],
             [
              0.1111111111111111,
              "#46039f"
             ],
             [
              0.2222222222222222,
              "#7201a8"
             ],
             [
              0.3333333333333333,
              "#9c179e"
             ],
             [
              0.4444444444444444,
              "#bd3786"
             ],
             [
              0.5555555555555556,
              "#d8576b"
             ],
             [
              0.6666666666666666,
              "#ed7953"
             ],
             [
              0.7777777777777778,
              "#fb9f3a"
             ],
             [
              0.8888888888888888,
              "#fdca26"
             ],
             [
              1,
              "#f0f921"
             ]
            ],
            "type": "heatmap"
           }
          ],
          "heatmapgl": [
           {
            "colorbar": {
             "outlinewidth": 0,
             "ticks": ""
            },
            "colorscale": [
             [
              0,
              "#0d0887"
             ],
             [
              0.1111111111111111,
              "#46039f"
             ],
             [
              0.2222222222222222,
              "#7201a8"
             ],
             [
              0.3333333333333333,
              "#9c179e"
             ],
             [
              0.4444444444444444,
              "#bd3786"
             ],
             [
              0.5555555555555556,
              "#d8576b"
             ],
             [
              0.6666666666666666,
              "#ed7953"
             ],
             [
              0.7777777777777778,
              "#fb9f3a"
             ],
             [
              0.8888888888888888,
              "#fdca26"
             ],
             [
              1,
              "#f0f921"
             ]
            ],
            "type": "heatmapgl"
           }
          ],
          "histogram": [
           {
            "marker": {
             "pattern": {
              "fillmode": "overlay",
              "size": 10,
              "solidity": 0.2
             }
            },
            "type": "histogram"
           }
          ],
          "histogram2d": [
           {
            "colorbar": {
             "outlinewidth": 0,
             "ticks": ""
            },
            "colorscale": [
             [
              0,
              "#0d0887"
             ],
             [
              0.1111111111111111,
              "#46039f"
             ],
             [
              0.2222222222222222,
              "#7201a8"
             ],
             [
              0.3333333333333333,
              "#9c179e"
             ],
             [
              0.4444444444444444,
              "#bd3786"
             ],
             [
              0.5555555555555556,
              "#d8576b"
             ],
             [
              0.6666666666666666,
              "#ed7953"
             ],
             [
              0.7777777777777778,
              "#fb9f3a"
             ],
             [
              0.8888888888888888,
              "#fdca26"
             ],
             [
              1,
              "#f0f921"
             ]
            ],
            "type": "histogram2d"
           }
          ],
          "histogram2dcontour": [
           {
            "colorbar": {
             "outlinewidth": 0,
             "ticks": ""
            },
            "colorscale": [
             [
              0,
              "#0d0887"
             ],
             [
              0.1111111111111111,
              "#46039f"
             ],
             [
              0.2222222222222222,
              "#7201a8"
             ],
             [
              0.3333333333333333,
              "#9c179e"
             ],
             [
              0.4444444444444444,
              "#bd3786"
             ],
             [
              0.5555555555555556,
              "#d8576b"
             ],
             [
              0.6666666666666666,
              "#ed7953"
             ],
             [
              0.7777777777777778,
              "#fb9f3a"
             ],
             [
              0.8888888888888888,
              "#fdca26"
             ],
             [
              1,
              "#f0f921"
             ]
            ],
            "type": "histogram2dcontour"
           }
          ],
          "mesh3d": [
           {
            "colorbar": {
             "outlinewidth": 0,
             "ticks": ""
            },
            "type": "mesh3d"
           }
          ],
          "parcoords": [
           {
            "line": {
             "colorbar": {
              "outlinewidth": 0,
              "ticks": ""
             }
            },
            "type": "parcoords"
           }
          ],
          "pie": [
           {
            "automargin": true,
            "type": "pie"
           }
          ],
          "scatter": [
           {
            "marker": {
             "colorbar": {
              "outlinewidth": 0,
              "ticks": ""
             }
            },
            "type": "scatter"
           }
          ],
          "scatter3d": [
           {
            "line": {
             "colorbar": {
              "outlinewidth": 0,
              "ticks": ""
             }
            },
            "marker": {
             "colorbar": {
              "outlinewidth": 0,
              "ticks": ""
             }
            },
            "type": "scatter3d"
           }
          ],
          "scattercarpet": [
           {
            "marker": {
             "colorbar": {
              "outlinewidth": 0,
              "ticks": ""
             }
            },
            "type": "scattercarpet"
           }
          ],
          "scattergeo": [
           {
            "marker": {
             "colorbar": {
              "outlinewidth": 0,
              "ticks": ""
             }
            },
            "type": "scattergeo"
           }
          ],
          "scattergl": [
           {
            "marker": {
             "colorbar": {
              "outlinewidth": 0,
              "ticks": ""
             }
            },
            "type": "scattergl"
           }
          ],
          "scattermapbox": [
           {
            "marker": {
             "colorbar": {
              "outlinewidth": 0,
              "ticks": ""
             }
            },
            "type": "scattermapbox"
           }
          ],
          "scatterpolar": [
           {
            "marker": {
             "colorbar": {
              "outlinewidth": 0,
              "ticks": ""
             }
            },
            "type": "scatterpolar"
           }
          ],
          "scatterpolargl": [
           {
            "marker": {
             "colorbar": {
              "outlinewidth": 0,
              "ticks": ""
             }
            },
            "type": "scatterpolargl"
           }
          ],
          "scatterternary": [
           {
            "marker": {
             "colorbar": {
              "outlinewidth": 0,
              "ticks": ""
             }
            },
            "type": "scatterternary"
           }
          ],
          "surface": [
           {
            "colorbar": {
             "outlinewidth": 0,
             "ticks": ""
            },
            "colorscale": [
             [
              0,
              "#0d0887"
             ],
             [
              0.1111111111111111,
              "#46039f"
             ],
             [
              0.2222222222222222,
              "#7201a8"
             ],
             [
              0.3333333333333333,
              "#9c179e"
             ],
             [
              0.4444444444444444,
              "#bd3786"
             ],
             [
              0.5555555555555556,
              "#d8576b"
             ],
             [
              0.6666666666666666,
              "#ed7953"
             ],
             [
              0.7777777777777778,
              "#fb9f3a"
             ],
             [
              0.8888888888888888,
              "#fdca26"
             ],
             [
              1,
              "#f0f921"
             ]
            ],
            "type": "surface"
           }
          ],
          "table": [
           {
            "cells": {
             "fill": {
              "color": "#EBF0F8"
             },
             "line": {
              "color": "white"
             }
            },
            "header": {
             "fill": {
              "color": "#C8D4E3"
             },
             "line": {
              "color": "white"
             }
            },
            "type": "table"
           }
          ]
         },
         "layout": {
          "annotationdefaults": {
           "arrowcolor": "#2a3f5f",
           "arrowhead": 0,
           "arrowwidth": 1
          },
          "autotypenumbers": "strict",
          "coloraxis": {
           "colorbar": {
            "outlinewidth": 0,
            "ticks": ""
           }
          },
          "colorscale": {
           "diverging": [
            [
             0,
             "#8e0152"
            ],
            [
             0.1,
             "#c51b7d"
            ],
            [
             0.2,
             "#de77ae"
            ],
            [
             0.3,
             "#f1b6da"
            ],
            [
             0.4,
             "#fde0ef"
            ],
            [
             0.5,
             "#f7f7f7"
            ],
            [
             0.6,
             "#e6f5d0"
            ],
            [
             0.7,
             "#b8e186"
            ],
            [
             0.8,
             "#7fbc41"
            ],
            [
             0.9,
             "#4d9221"
            ],
            [
             1,
             "#276419"
            ]
           ],
           "sequential": [
            [
             0,
             "#0d0887"
            ],
            [
             0.1111111111111111,
             "#46039f"
            ],
            [
             0.2222222222222222,
             "#7201a8"
            ],
            [
             0.3333333333333333,
             "#9c179e"
            ],
            [
             0.4444444444444444,
             "#bd3786"
            ],
            [
             0.5555555555555556,
             "#d8576b"
            ],
            [
             0.6666666666666666,
             "#ed7953"
            ],
            [
             0.7777777777777778,
             "#fb9f3a"
            ],
            [
             0.8888888888888888,
             "#fdca26"
            ],
            [
             1,
             "#f0f921"
            ]
           ],
           "sequentialminus": [
            [
             0,
             "#0d0887"
            ],
            [
             0.1111111111111111,
             "#46039f"
            ],
            [
             0.2222222222222222,
             "#7201a8"
            ],
            [
             0.3333333333333333,
             "#9c179e"
            ],
            [
             0.4444444444444444,
             "#bd3786"
            ],
            [
             0.5555555555555556,
             "#d8576b"
            ],
            [
             0.6666666666666666,
             "#ed7953"
            ],
            [
             0.7777777777777778,
             "#fb9f3a"
            ],
            [
             0.8888888888888888,
             "#fdca26"
            ],
            [
             1,
             "#f0f921"
            ]
           ]
          },
          "colorway": [
           "#636efa",
           "#EF553B",
           "#00cc96",
           "#ab63fa",
           "#FFA15A",
           "#19d3f3",
           "#FF6692",
           "#B6E880",
           "#FF97FF",
           "#FECB52"
          ],
          "font": {
           "color": "#2a3f5f"
          },
          "geo": {
           "bgcolor": "white",
           "lakecolor": "white",
           "landcolor": "#E5ECF6",
           "showlakes": true,
           "showland": true,
           "subunitcolor": "white"
          },
          "hoverlabel": {
           "align": "left"
          },
          "hovermode": "closest",
          "mapbox": {
           "style": "light"
          },
          "paper_bgcolor": "white",
          "plot_bgcolor": "#E5ECF6",
          "polar": {
           "angularaxis": {
            "gridcolor": "white",
            "linecolor": "white",
            "ticks": ""
           },
           "bgcolor": "#E5ECF6",
           "radialaxis": {
            "gridcolor": "white",
            "linecolor": "white",
            "ticks": ""
           }
          },
          "scene": {
           "xaxis": {
            "backgroundcolor": "#E5ECF6",
            "gridcolor": "white",
            "gridwidth": 2,
            "linecolor": "white",
            "showbackground": true,
            "ticks": "",
            "zerolinecolor": "white"
           },
           "yaxis": {
            "backgroundcolor": "#E5ECF6",
            "gridcolor": "white",
            "gridwidth": 2,
            "linecolor": "white",
            "showbackground": true,
            "ticks": "",
            "zerolinecolor": "white"
           },
           "zaxis": {
            "backgroundcolor": "#E5ECF6",
            "gridcolor": "white",
            "gridwidth": 2,
            "linecolor": "white",
            "showbackground": true,
            "ticks": "",
            "zerolinecolor": "white"
           }
          },
          "shapedefaults": {
           "line": {
            "color": "#2a3f5f"
           }
          },
          "ternary": {
           "aaxis": {
            "gridcolor": "white",
            "linecolor": "white",
            "ticks": ""
           },
           "baxis": {
            "gridcolor": "white",
            "linecolor": "white",
            "ticks": ""
           },
           "bgcolor": "#E5ECF6",
           "caxis": {
            "gridcolor": "white",
            "linecolor": "white",
            "ticks": ""
           }
          },
          "title": {
           "x": 0.05
          },
          "xaxis": {
           "automargin": true,
           "gridcolor": "white",
           "linecolor": "white",
           "ticks": "",
           "title": {
            "standoff": 15
           },
           "zerolinecolor": "white",
           "zerolinewidth": 2
          },
          "yaxis": {
           "automargin": true,
           "gridcolor": "white",
           "linecolor": "white",
           "ticks": "",
           "title": {
            "standoff": 15
           },
           "zerolinecolor": "white",
           "zerolinewidth": 2
          }
         }
        },
        "title": {
         "font": {
          "size": 24
         },
         "text": "Análise de Funil de Conversão",
         "x": 0.5,
         "xanchor": "center",
         "y": 0.95,
         "yanchor": "top"
        },
        "width": 900
       }
      },
      "text/html": [
       "<div>                            <div id=\"540d5b2a-b059-4b53-a5cd-764ba4401109\" class=\"plotly-graph-div\" style=\"height:600px; width:900px;\"></div>            <script type=\"text/javascript\">                require([\"plotly\"], function(Plotly) {                    window.PLOTLYENV=window.PLOTLYENV || {};                                    if (document.getElementById(\"540d5b2a-b059-4b53-a5cd-764ba4401109\")) {                    Plotly.newPlot(                        \"540d5b2a-b059-4b53-a5cd-764ba4401109\",                        [{\"connector\":{\"line\":{\"color\":\"royalblue\",\"dash\":\"dot\",\"width\":2}},\"marker\":{\"color\":[\"#4e79a7\",\"#f28e2b\",\"#e15759\",\"#76b7b2\",\"#59a14f\"],\"line\":{\"color\":[\"white\"],\"width\":[1,1,1,1,1]}},\"opacity\":0.8,\"textfont\":{\"color\":\"white\",\"family\":\"Arial\",\"size\":14},\"textinfo\":\"value+percent initial\",\"x\":[58703,58696,38929,19284,19568],\"y\":[\"Visitantes\",\"Login\",\"P\\u00e1gina do Produto\",\"Carrinho\",\"Compra\"],\"type\":\"funnel\"}],                        {\"template\":{\"data\":{\"bar\":[{\"error_x\":{\"color\":\"#2a3f5f\"},\"error_y\":{\"color\":\"#2a3f5f\"},\"marker\":{\"line\":{\"color\":\"#E5ECF6\",\"width\":0.5},\"pattern\":{\"fillmode\":\"overlay\",\"size\":10,\"solidity\":0.2}},\"type\":\"bar\"}],\"barpolar\":[{\"marker\":{\"line\":{\"color\":\"#E5ECF6\",\"width\":0.5},\"pattern\":{\"fillmode\":\"overlay\",\"size\":10,\"solidity\":0.2}},\"type\":\"barpolar\"}],\"carpet\":[{\"aaxis\":{\"endlinecolor\":\"#2a3f5f\",\"gridcolor\":\"white\",\"linecolor\":\"white\",\"minorgridcolor\":\"white\",\"startlinecolor\":\"#2a3f5f\"},\"baxis\":{\"endlinecolor\":\"#2a3f5f\",\"gridcolor\":\"white\",\"linecolor\":\"white\",\"minorgridcolor\":\"white\",\"startlinecolor\":\"#2a3f5f\"},\"type\":\"carpet\"}],\"choropleth\":[{\"colorbar\":{\"outlinewidth\":0,\"ticks\":\"\"},\"type\":\"choropleth\"}],\"contour\":[{\"colorbar\":{\"outlinewidth\":0,\"ticks\":\"\"},\"colorscale\":[[0.0,\"#0d0887\"],[0.1111111111111111,\"#46039f\"],[0.2222222222222222,\"#7201a8\"],[0.3333333333333333,\"#9c179e\"],[0.4444444444444444,\"#bd3786\"],[0.5555555555555556,\"#d8576b\"],[0.6666666666666666,\"#ed7953\"],[0.7777777777777778,\"#fb9f3a\"],[0.8888888888888888,\"#fdca26\"],[1.0,\"#f0f921\"]],\"type\":\"contour\"}],\"contourcarpet\":[{\"colorbar\":{\"outlinewidth\":0,\"ticks\":\"\"},\"type\":\"contourcarpet\"}],\"heatmap\":[{\"colorbar\":{\"outlinewidth\":0,\"ticks\":\"\"},\"colorscale\":[[0.0,\"#0d0887\"],[0.1111111111111111,\"#46039f\"],[0.2222222222222222,\"#7201a8\"],[0.3333333333333333,\"#9c179e\"],[0.4444444444444444,\"#bd3786\"],[0.5555555555555556,\"#d8576b\"],[0.6666666666666666,\"#ed7953\"],[0.7777777777777778,\"#fb9f3a\"],[0.8888888888888888,\"#fdca26\"],[1.0,\"#f0f921\"]],\"type\":\"heatmap\"}],\"heatmapgl\":[{\"colorbar\":{\"outlinewidth\":0,\"ticks\":\"\"},\"colorscale\":[[0.0,\"#0d0887\"],[0.1111111111111111,\"#46039f\"],[0.2222222222222222,\"#7201a8\"],[0.3333333333333333,\"#9c179e\"],[0.4444444444444444,\"#bd3786\"],[0.5555555555555556,\"#d8576b\"],[0.6666666666666666,\"#ed7953\"],[0.7777777777777778,\"#fb9f3a\"],[0.8888888888888888,\"#fdca26\"],[1.0,\"#f0f921\"]],\"type\":\"heatmapgl\"}],\"histogram\":[{\"marker\":{\"pattern\":{\"fillmode\":\"overlay\",\"size\":10,\"solidity\":0.2}},\"type\":\"histogram\"}],\"histogram2d\":[{\"colorbar\":{\"outlinewidth\":0,\"ticks\":\"\"},\"colorscale\":[[0.0,\"#0d0887\"],[0.1111111111111111,\"#46039f\"],[0.2222222222222222,\"#7201a8\"],[0.3333333333333333,\"#9c179e\"],[0.4444444444444444,\"#bd3786\"],[0.5555555555555556,\"#d8576b\"],[0.6666666666666666,\"#ed7953\"],[0.7777777777777778,\"#fb9f3a\"],[0.8888888888888888,\"#fdca26\"],[1.0,\"#f0f921\"]],\"type\":\"histogram2d\"}],\"histogram2dcontour\":[{\"colorbar\":{\"outlinewidth\":0,\"ticks\":\"\"},\"colorscale\":[[0.0,\"#0d0887\"],[0.1111111111111111,\"#46039f\"],[0.2222222222222222,\"#7201a8\"],[0.3333333333333333,\"#9c179e\"],[0.4444444444444444,\"#bd3786\"],[0.5555555555555556,\"#d8576b\"],[0.6666666666666666,\"#ed7953\"],[0.7777777777777778,\"#fb9f3a\"],[0.8888888888888888,\"#fdca26\"],[1.0,\"#f0f921\"]],\"type\":\"histogram2dcontour\"}],\"mesh3d\":[{\"colorbar\":{\"outlinewidth\":0,\"ticks\":\"\"},\"type\":\"mesh3d\"}],\"parcoords\":[{\"line\":{\"colorbar\":{\"outlinewidth\":0,\"ticks\":\"\"}},\"type\":\"parcoords\"}],\"pie\":[{\"automargin\":true,\"type\":\"pie\"}],\"scatter\":[{\"marker\":{\"colorbar\":{\"outlinewidth\":0,\"ticks\":\"\"}},\"type\":\"scatter\"}],\"scatter3d\":[{\"line\":{\"colorbar\":{\"outlinewidth\":0,\"ticks\":\"\"}},\"marker\":{\"colorbar\":{\"outlinewidth\":0,\"ticks\":\"\"}},\"type\":\"scatter3d\"}],\"scattercarpet\":[{\"marker\":{\"colorbar\":{\"outlinewidth\":0,\"ticks\":\"\"}},\"type\":\"scattercarpet\"}],\"scattergeo\":[{\"marker\":{\"colorbar\":{\"outlinewidth\":0,\"ticks\":\"\"}},\"type\":\"scattergeo\"}],\"scattergl\":[{\"marker\":{\"colorbar\":{\"outlinewidth\":0,\"ticks\":\"\"}},\"type\":\"scattergl\"}],\"scattermapbox\":[{\"marker\":{\"colorbar\":{\"outlinewidth\":0,\"ticks\":\"\"}},\"type\":\"scattermapbox\"}],\"scatterpolar\":[{\"marker\":{\"colorbar\":{\"outlinewidth\":0,\"ticks\":\"\"}},\"type\":\"scatterpolar\"}],\"scatterpolargl\":[{\"marker\":{\"colorbar\":{\"outlinewidth\":0,\"ticks\":\"\"}},\"type\":\"scatterpolargl\"}],\"scatterternary\":[{\"marker\":{\"colorbar\":{\"outlinewidth\":0,\"ticks\":\"\"}},\"type\":\"scatterternary\"}],\"surface\":[{\"colorbar\":{\"outlinewidth\":0,\"ticks\":\"\"},\"colorscale\":[[0.0,\"#0d0887\"],[0.1111111111111111,\"#46039f\"],[0.2222222222222222,\"#7201a8\"],[0.3333333333333333,\"#9c179e\"],[0.4444444444444444,\"#bd3786\"],[0.5555555555555556,\"#d8576b\"],[0.6666666666666666,\"#ed7953\"],[0.7777777777777778,\"#fb9f3a\"],[0.8888888888888888,\"#fdca26\"],[1.0,\"#f0f921\"]],\"type\":\"surface\"}],\"table\":[{\"cells\":{\"fill\":{\"color\":\"#EBF0F8\"},\"line\":{\"color\":\"white\"}},\"header\":{\"fill\":{\"color\":\"#C8D4E3\"},\"line\":{\"color\":\"white\"}},\"type\":\"table\"}]},\"layout\":{\"annotationdefaults\":{\"arrowcolor\":\"#2a3f5f\",\"arrowhead\":0,\"arrowwidth\":1},\"autotypenumbers\":\"strict\",\"coloraxis\":{\"colorbar\":{\"outlinewidth\":0,\"ticks\":\"\"}},\"colorscale\":{\"diverging\":[[0,\"#8e0152\"],[0.1,\"#c51b7d\"],[0.2,\"#de77ae\"],[0.3,\"#f1b6da\"],[0.4,\"#fde0ef\"],[0.5,\"#f7f7f7\"],[0.6,\"#e6f5d0\"],[0.7,\"#b8e186\"],[0.8,\"#7fbc41\"],[0.9,\"#4d9221\"],[1,\"#276419\"]],\"sequential\":[[0.0,\"#0d0887\"],[0.1111111111111111,\"#46039f\"],[0.2222222222222222,\"#7201a8\"],[0.3333333333333333,\"#9c179e\"],[0.4444444444444444,\"#bd3786\"],[0.5555555555555556,\"#d8576b\"],[0.6666666666666666,\"#ed7953\"],[0.7777777777777778,\"#fb9f3a\"],[0.8888888888888888,\"#fdca26\"],[1.0,\"#f0f921\"]],\"sequentialminus\":[[0.0,\"#0d0887\"],[0.1111111111111111,\"#46039f\"],[0.2222222222222222,\"#7201a8\"],[0.3333333333333333,\"#9c179e\"],[0.4444444444444444,\"#bd3786\"],[0.5555555555555556,\"#d8576b\"],[0.6666666666666666,\"#ed7953\"],[0.7777777777777778,\"#fb9f3a\"],[0.8888888888888888,\"#fdca26\"],[1.0,\"#f0f921\"]]},\"colorway\":[\"#636efa\",\"#EF553B\",\"#00cc96\",\"#ab63fa\",\"#FFA15A\",\"#19d3f3\",\"#FF6692\",\"#B6E880\",\"#FF97FF\",\"#FECB52\"],\"font\":{\"color\":\"#2a3f5f\"},\"geo\":{\"bgcolor\":\"white\",\"lakecolor\":\"white\",\"landcolor\":\"#E5ECF6\",\"showlakes\":true,\"showland\":true,\"subunitcolor\":\"white\"},\"hoverlabel\":{\"align\":\"left\"},\"hovermode\":\"closest\",\"mapbox\":{\"style\":\"light\"},\"paper_bgcolor\":\"white\",\"plot_bgcolor\":\"#E5ECF6\",\"polar\":{\"angularaxis\":{\"gridcolor\":\"white\",\"linecolor\":\"white\",\"ticks\":\"\"},\"bgcolor\":\"#E5ECF6\",\"radialaxis\":{\"gridcolor\":\"white\",\"linecolor\":\"white\",\"ticks\":\"\"}},\"scene\":{\"xaxis\":{\"backgroundcolor\":\"#E5ECF6\",\"gridcolor\":\"white\",\"gridwidth\":2,\"linecolor\":\"white\",\"showbackground\":true,\"ticks\":\"\",\"zerolinecolor\":\"white\"},\"yaxis\":{\"backgroundcolor\":\"#E5ECF6\",\"gridcolor\":\"white\",\"gridwidth\":2,\"linecolor\":\"white\",\"showbackground\":true,\"ticks\":\"\",\"zerolinecolor\":\"white\"},\"zaxis\":{\"backgroundcolor\":\"#E5ECF6\",\"gridcolor\":\"white\",\"gridwidth\":2,\"linecolor\":\"white\",\"showbackground\":true,\"ticks\":\"\",\"zerolinecolor\":\"white\"}},\"shapedefaults\":{\"line\":{\"color\":\"#2a3f5f\"}},\"ternary\":{\"aaxis\":{\"gridcolor\":\"white\",\"linecolor\":\"white\",\"ticks\":\"\"},\"baxis\":{\"gridcolor\":\"white\",\"linecolor\":\"white\",\"ticks\":\"\"},\"bgcolor\":\"#E5ECF6\",\"caxis\":{\"gridcolor\":\"white\",\"linecolor\":\"white\",\"ticks\":\"\"}},\"title\":{\"x\":0.05},\"xaxis\":{\"automargin\":true,\"gridcolor\":\"white\",\"linecolor\":\"white\",\"ticks\":\"\",\"title\":{\"standoff\":15},\"zerolinecolor\":\"white\",\"zerolinewidth\":2},\"yaxis\":{\"automargin\":true,\"gridcolor\":\"white\",\"linecolor\":\"white\",\"ticks\":\"\",\"title\":{\"standoff\":15},\"zerolinecolor\":\"white\",\"zerolinewidth\":2}}},\"title\":{\"font\":{\"size\":24},\"text\":\"An\\u00e1lise de Funil de Convers\\u00e3o\",\"y\":0.95,\"x\":0.5,\"xanchor\":\"center\",\"yanchor\":\"top\"},\"margin\":{\"l\":100,\"r\":100,\"t\":100,\"b\":100},\"width\":900,\"height\":600,\"plot_bgcolor\":\"white\",\"showlegend\":false,\"annotations\":[{\"font\":{\"size\":12},\"showarrow\":false,\"text\":\"100.0%\",\"x\":29351.5,\"y\":0.5},{\"font\":{\"size\":12},\"showarrow\":false,\"text\":\"66.3%\",\"x\":29348.0,\"y\":1.5},{\"font\":{\"size\":12},\"showarrow\":false,\"text\":\"49.5%\",\"x\":19464.5,\"y\":2.5},{\"font\":{\"size\":12},\"showarrow\":false,\"text\":\"101.5%\",\"x\":9642.0,\"y\":3.5}]},                        {\"responsive\": true}                    ).then(function(){\n",
       "                            \n",
       "var gd = document.getElementById('540d5b2a-b059-4b53-a5cd-764ba4401109');\n",
       "var x = new MutationObserver(function (mutations, observer) {{\n",
       "        var display = window.getComputedStyle(gd).display;\n",
       "        if (!display || display === 'none') {{\n",
       "            console.log([gd, 'removed!']);\n",
       "            Plotly.purge(gd);\n",
       "            observer.disconnect();\n",
       "        }}\n",
       "}});\n",
       "\n",
       "// Listen for the removal of the full notebook cells\n",
       "var notebookContainer = gd.closest('#notebook-container');\n",
       "if (notebookContainer) {{\n",
       "    x.observe(notebookContainer, {childList: true});\n",
       "}}\n",
       "\n",
       "// Listen for the clearing of the current output cell\n",
       "var outputEl = gd.closest('.output');\n",
       "if (outputEl) {{\n",
       "    x.observe(outputEl, {childList: true});\n",
       "}}\n",
       "\n",
       "                        })                };                });            </script>        </div>"
      ]
     },
     "metadata": {},
     "output_type": "display_data"
    }
   ],
   "source": [
    "events = pd.DataFrame(events)\n",
    "\n",
    "# Contagem de usuários únicos em cada etapa\n",
    "total_visitors = events['user_id'].nunique()  # Total de visitantes\n",
    "\n",
    "# Contagem de usuários em cada etapa\n",
    "login_users = events[events['event_name'] == 'login']['user_id'].nunique()\n",
    "product_page_users = events[events['event_name'] == 'product_page']['user_id'].nunique()\n",
    "product_cart_users = events[events['event_name'] == 'product_cart']['user_id'].nunique()\n",
    "purchase_users = events[events['event_name'] == 'purchase']['user_id'].nunique()\n",
    "\n",
    "# Criar listas para as etapas e valores\n",
    "etapas_funil = ['Visitantes', 'Login', 'Página do Produto', 'Carrinho', 'Compra']\n",
    "valores_funil = [total_visitors, login_users, product_page_users, product_cart_users, purchase_users]\n",
    "\n",
    "# Criar o gráfico de funil com sintaxe correta\n",
    "fig = go.Figure(go.Funnel(\n",
    "    y=etapas_funil,\n",
    "    x=valores_funil,\n",
    "    textinfo='value+percent initial',\n",
    "    opacity=0.8,\n",
    "    marker={\n",
    "        \"color\": ['#4e79a7', '#f28e2b', '#e15759', '#76b7b2', '#59a14f'],\n",
    "        \"line\": {\"width\": [1, 1, 1, 1, 1], \"color\": ['white']}\n",
    "    },\n",
    "    textfont={\"family\": \"Arial\", \"size\": 14, \"color\": \"white\"},\n",
    "    connector={\"line\": {\"color\": \"royalblue\", \"dash\": \"dot\", \"width\": 2}}\n",
    "))\n",
    "\n",
    "# Configurações do layout\n",
    "fig.update_layout(\n",
    "    title={\n",
    "        'text': 'Análise de Funil de Conversão',\n",
    "        'y':0.95,\n",
    "        'x':0.5,\n",
    "        'xanchor': 'center',\n",
    "        'yanchor': 'top',\n",
    "        'font': {'size': 24}\n",
    "    },\n",
    "    width=900,\n",
    "    height=600,\n",
    "    margin=dict(l=100, r=100, t=100, b=100),\n",
    "    plot_bgcolor='white',\n",
    "    showlegend=False\n",
    ")\n",
    "\n",
    "# Adicionar anotações de taxa de conversão\n",
    "for i in range(1, len(valores_funil)):\n",
    "    conversion_rate = (valores_funil[i]/valores_funil[i-1])*100\n",
    "    fig.add_annotation(\n",
    "        x=valores_funil[i-1]/2,\n",
    "        y=i-0.5,\n",
    "        text=f'{conversion_rate:.1f}%',\n",
    "        showarrow=False,\n",
    "        font=dict(size=12)\n",
    "    )\n",
    "\n",
    "fig.show()"
   ]
  },
  {
   "cell_type": "code",
   "execution_count": 104,
   "id": "94b4ecfa-802f-44cc-bb2a-1c48522415c1",
   "metadata": {},
   "outputs": [
    {
     "name": "stdout",
     "output_type": "stream",
     "text": [
      "\n",
      "RESULTADO DA ANÁLISE DE PERDAS NOS CAMINHOS:\n"
     ]
    },
    {
     "data": {
      "text/html": [
       "<style  type=\"text/css\" >\n",
       "#T_385c9_row0_col3{\n",
       "            color:  red;\n",
       "             font-weight:  bold;\n",
       "        }#T_385c9_row3_col3{\n",
       "            color:  green;\n",
       "             font-weight:  bold;\n",
       "        }</style><table id=\"T_385c9_\" ><caption>Análise de Perdas nos Caminhos do Funil</caption><thead>    <tr>        <th class=\"blank level0\" ></th>        <th class=\"col_heading level0 col0\" >Contagem</th>        <th class=\"col_heading level0 col1\" >Percentual</th>        <th class=\"col_heading level0 col2\" >Taxa de Retenção</th>        <th class=\"col_heading level0 col3\" >Classificação</th>    </tr></thead><tbody>\n",
       "                <tr>\n",
       "                        <th id=\"T_385c9_level0_row0\" class=\"row_heading level0 row0\" >Login → Página → Carrinho → Compra</th>\n",
       "                        <td id=\"T_385c9_row0_col0\" class=\"data row0 col0\" >4248</td>\n",
       "                        <td id=\"T_385c9_row0_col1\" class=\"data row0 col1\" >7.2%</td>\n",
       "                        <td id=\"T_385c9_row0_col2\" class=\"data row0 col2\" >16.2%</td>\n",
       "                        <td id=\"T_385c9_row0_col3\" class=\"data row0 col3\" >Maior perda</td>\n",
       "            </tr>\n",
       "            <tr>\n",
       "                        <th id=\"T_385c9_level0_row1\" class=\"row_heading level0 row1\" >Login → Página → Carrinho</th>\n",
       "                        <td id=\"T_385c9_row1_col0\" class=\"data row1 col0\" >8458</td>\n",
       "                        <td id=\"T_385c9_row1_col1\" class=\"data row1 col1\" >14.4%</td>\n",
       "                        <td id=\"T_385c9_row1_col2\" class=\"data row1 col2\" >32.3%</td>\n",
       "                        <td id=\"T_385c9_row1_col3\" class=\"data row1 col3\" >Alta perda</td>\n",
       "            </tr>\n",
       "            <tr>\n",
       "                        <th id=\"T_385c9_level0_row2\" class=\"row_heading level0 row2\" >Apenas Login</th>\n",
       "                        <td id=\"T_385c9_row2_col0\" class=\"data row2 col0\" >19767</td>\n",
       "                        <td id=\"T_385c9_row2_col1\" class=\"data row2 col1\" >33.7%</td>\n",
       "                        <td id=\"T_385c9_row2_col2\" class=\"data row2 col2\" >75.4%</td>\n",
       "                        <td id=\"T_385c9_row2_col3\" class=\"data row2 col3\" >Média perda</td>\n",
       "            </tr>\n",
       "            <tr>\n",
       "                        <th id=\"T_385c9_level0_row3\" class=\"row_heading level0 row3\" >Login → Página</th>\n",
       "                        <td id=\"T_385c9_row3_col0\" class=\"data row3 col0\" >26223</td>\n",
       "                        <td id=\"T_385c9_row3_col1\" class=\"data row3 col1\" >44.7%</td>\n",
       "                        <td id=\"T_385c9_row3_col2\" class=\"data row3 col2\" >100.0%</td>\n",
       "                        <td id=\"T_385c9_row3_col3\" class=\"data row3 col3\" >Menor perda</td>\n",
       "            </tr>\n",
       "    </tbody></table>"
      ],
      "text/plain": [
       "<pandas.io.formats.style.Styler at 0x7f2d6f6911f0>"
      ]
     },
     "metadata": {},
     "output_type": "display_data"
    },
    {
     "name": "stdout",
     "output_type": "stream",
     "text": [
      "\n",
      "PRINCIPAIS CONCLUSÕES:\n",
      "1. Caminho com MAIOR PERDA: Login → Página → Carrinho → Compra (7.2% dos usuários)\n",
      "2. Caminho com MENOR PERDA: Login → Página (44.7% dos usuários)\n",
      "\n",
      "3. Taxa de conversão completa (Login→Compra): 7.2%\n"
     ]
    }
   ],
   "source": [
    "# Criar sequências de eventos por usuário\n",
    "user_paths = events.groupby('user_id')['event_name'].apply(list).reset_index()\n",
    "\n",
    "# Contar caminhos completos\n",
    "caminhos = {\n",
    "    'Login → Página → Carrinho → Compra': 0,\n",
    "    'Login → Página → Carrinho': 0,\n",
    "    'Login → Página': 0,\n",
    "    'Apenas Login': 0\n",
    "}\n",
    "\n",
    "for path in user_paths['event_name']:\n",
    "    if 'login' in path and 'product_page' in path and 'product_cart' in path and 'purchase' in path:\n",
    "        caminhos['Login → Página → Carrinho → Compra'] += 1\n",
    "    elif 'login' in path and 'product_page' in path and 'product_cart' in path:\n",
    "        caminhos['Login → Página → Carrinho'] += 1\n",
    "    elif 'login' in path and 'product_page' in path:\n",
    "        caminhos['Login → Página'] += 1\n",
    "    elif 'login' in path:\n",
    "        caminhos['Apenas Login'] += 1\n",
    "\n",
    "# Converter para DataFrame e calcular métricas\n",
    "df_caminhos = pd.DataFrame.from_dict(caminhos, orient='index', columns=['Contagem'])\n",
    "df_caminhos['Percentual'] = (df_caminhos['Contagem'] / len(user_paths)) * 100\n",
    "df_caminhos['Taxa de Retenção'] = (df_caminhos['Contagem'] / df_caminhos['Contagem'].max()) * 100\n",
    "\n",
    "# Ordenar do maior para menor perda (menor retenção)\n",
    "df_caminhos = df_caminhos.sort_values('Taxa de Retenção', ascending=True)\n",
    "\n",
    "# Adicionar coluna de classificação\n",
    "df_caminhos['Classificação'] = ['Maior perda', 'Alta perda', 'Média perda', 'Menor perda']\n",
    "\n",
    "# Formatar saída\n",
    "df_caminhos['Percentual'] = df_caminhos['Percentual'].apply(lambda x: f\"{x:.1f}%\")\n",
    "df_caminhos['Taxa de Retenção'] = df_caminhos['Taxa de Retenção'].apply(lambda x: f\"{x:.1f}%\")\n",
    "\n",
    "# Estilo para melhor visualização\n",
    "def color_perda(val):\n",
    "    if 'Maior' in val:\n",
    "        return 'color: red; font-weight: bold'\n",
    "    elif 'Menor' in val:\n",
    "        return 'color: green; font-weight: bold'\n",
    "    else:\n",
    "        return ''\n",
    "\n",
    "styled_df = df_caminhos.style.applymap(color_perda, subset=['Classificação'])\n",
    "styled_df.set_caption('Análise de Perdas nos Caminhos do Funil')\n",
    "\n",
    "# Mostrar resultados\n",
    "print(\"\\nRESULTADO DA ANÁLISE DE PERDAS NOS CAMINHOS:\")\n",
    "display(styled_df)\n",
    "\n",
    "# Análise adicional\n",
    "print(\"\\nPRINCIPAIS CONCLUSÕES:\")\n",
    "print(f\"1. Caminho com MAIOR PERDA: {df_caminhos.index[0]} ({df_caminhos.iloc[0]['Percentual']} dos usuários)\")\n",
    "print(f\"2. Caminho com MENOR PERDA: {df_caminhos.index[-1]} ({df_caminhos.iloc[-1]['Percentual']} dos usuários)\")\n",
    "print(f\"\\n3. Taxa de conversão completa (Login→Compra): {df_caminhos.loc['Login → Página → Carrinho → Compra', 'Percentual']}\")"
   ]
  },
  {
   "cell_type": "markdown",
   "id": "9914852d-3216-4cd9-80de-6cade93e1b9e",
   "metadata": {},
   "source": [
    "* O número de eventos por usuário é distribuído igualmente entre as amostras?"
   ]
  },
  {
   "cell_type": "markdown",
   "id": "f0b50e5f",
   "metadata": {},
   "source": [
    "<div class=\"alert alert-block alert-danger\">\n",
    "<b> Comentário do revisor: </b> <a class=\"tocSkip\"></a>\n",
    "<s>\n",
    "    \n",
    "Aqui você precisa responder às seguintes perguntas:\n",
    "    \n",
    "- *Qual a etapa do funil em que há maior perda de usuários? Dica: verifique as diferenças percentuais entre as etapas do funil*\n",
    "- *Qual é o caminho do funil que é mais percorrido pelos usuários? Dica: verifique a quantidade de usuários que percorre cada caminho e divida pelo total de usuários*\n",
    "</s>\n",
    "</div>"
   ]
  },
  {
   "cell_type": "markdown",
   "id": "8e51c04b-952c-4c0f-9314-0887b909baa7",
   "metadata": {},
   "source": [
    "* Os usuários de ambas as amostras estão presentes?"
   ]
  },
  {
   "cell_type": "code",
   "execution_count": 105,
   "id": "4eca0289-4d95-46e3-be98-517640bce1a3",
   "metadata": {},
   "outputs": [
    {
     "name": "stdout",
     "output_type": "stream",
     "text": [
      "Tabela de Contingência:\n",
      "  Grupo  Número de Usuários\n",
      "0     A                8214\n",
      "1     B                6311\n",
      "\n",
      "Valor do teste qui-quadrado: 0.0\n",
      "Valor p: 1.0\n",
      "Não rejeitamos a hipótese nula: a distribuição de eventos por usuário é igual entre os grupos.\n"
     ]
    }
   ],
   "source": [
    "# Contando o número de usuários em cada grupo\n",
    "user_counts = participants['group'].value_counts()\n",
    "\n",
    "# Criando uma tabela de contingência\n",
    "contingency_table = pd.DataFrame({\n",
    "    'Grupo': user_counts.index,\n",
    "    'Número de Usuários': user_counts.values\n",
    "})\n",
    "\n",
    "# Realizando o teste qui-quadrado\n",
    "chi2, p, dof, expected = chi2_contingency(contingency_table[['Número de Usuários']])\n",
    "\n",
    "# Exibindo os resultados\n",
    "print(\"Tabela de Contingência:\")\n",
    "print(contingency_table)\n",
    "print(f\"\\nValor do teste qui-quadrado: {chi2}\")\n",
    "print(f\"Valor p: {p}\")\n",
    "\n",
    "# Interpretando o resultado\n",
    "alpha = 0.05\n",
    "if p < alpha:\n",
    "    print(\"Rejeitamos a hipótese nula: a distribuição de eventos por usuário não é igual entre os grupos.\")\n",
    "else:\n",
    "    print(\"Não rejeitamos a hipótese nula: a distribuição de eventos por usuário é igual entre os grupos.\")"
   ]
  },
  {
   "cell_type": "code",
   "execution_count": 106,
   "id": "cae5b5d6-a91d-438f-bef3-4baf494cea6d",
   "metadata": {},
   "outputs": [
    {
     "name": "stdout",
     "output_type": "stream",
     "text": [
      "Número de usuários duplicados: 0\n",
      "\n",
      "Número de usuários em múltiplos grupos do mesmo teste: 0\n"
     ]
    }
   ],
   "source": [
    "# Primeiro, vamos ver se há usuários duplicados na tabela de participantes\n",
    "duplicados = participants[participants.duplicated(subset=['user_id', 'ab_test'], keep=False)]\n",
    "\n",
    "# verificando especificamente se há usuários em grupos diferentes\n",
    "usuarios_em_multiplos_grupos = participants.groupby(['user_id', 'ab_test']).agg({'group': 'nunique'})\n",
    "usuarios_problematicos = usuarios_em_multiplos_grupos[usuarios_em_multiplos_grupos['group'] > 1]\n",
    "\n",
    "print(\"Número de usuários duplicados:\", len(duplicados.user_id.unique()))\n",
    "print(\"\\nNúmero de usuários em múltiplos grupos do mesmo teste:\", len(usuarios_problematicos))\n"
   ]
  },
  {
   "cell_type": "markdown",
   "id": "dd29595a",
   "metadata": {},
   "source": [
    "<div class=\"alert alert-block alert-danger\">\n",
    "<b> Comentário do revisor: </b> <a class=\"tocSkip\"></a>\n",
    "<s>\n",
    "Aqui você precisa responder à pergunta abaixo.    \n",
    "*Qual o percentual de usuários está em ambos os grupos?* *O que isso quer dizer a respeito da robustez do teste de hipótese que está sendo conduzido?* \n",
    "    \n",
    "Isso impacta o resultado de alguma forma? É preciso que você reflita sobre essa característica para chegar a uma conclusão final do projeto.\n",
    "  \n",
    "<br>\n",
    "    \n",
    "**Dica**: existem usuários que estão em ambas amostras, ou seja, o resultado acima deve ser > `0`.\n",
    "</s>\n",
    "</div>"
   ]
  },
  {
   "cell_type": "markdown",
   "id": "534051d3-a02d-4d5a-a1bc-43095391ca73",
   "metadata": {},
   "source": [
    "* Como o número de eventos é distribuído entre os dias?"
   ]
  },
  {
   "cell_type": "markdown",
   "id": "8d0eb10b-7b4d-4eea-8d98-51534ca2f826",
   "metadata": {},
   "source": [
    "Como observado acima os eventos estão divididos por dias."
   ]
  },
  {
   "cell_type": "code",
   "execution_count": 107,
   "id": "e410dcb6-f33b-46ef-9939-34a0b8107f1d",
   "metadata": {},
   "outputs": [
    {
     "data": {
      "image/png": "[encoded data removed]",
      "text/plain": [
       "<Figure size 1200x600 with 1 Axes>"
      ]
     },
     "metadata": {},
     "output_type": "display_data"
    }
   ],
   "source": [
    "# Configurando estilo escuro como solicitado anteriormente\n",
    "plt.style.use('dark_background')\n",
    "sns.set_theme(style=\"darkgrid\")\n",
    "\n",
    "# Convertendo a coluna event_dt para datetime e extraindo a data\n",
    "events['date'] = pd.to_datetime(events['event_dt']).dt.date\n",
    "\n",
    "# Contando o número de eventos por dia\n",
    "event_counts = events.groupby('date').size().reset_index(name='event_count')\n",
    "\n",
    "# Criando o gráfico\n",
    "plt.figure(figsize=(12, 6))\n",
    "plt.plot(event_counts['date'], event_counts['event_count'], marker='o', linestyle='-', color='cyan', linewidth=2)\n",
    "\n",
    "# Destacando os dias atípicos\n",
    "dias_atipicos = ['2020-12-21', '2020-12-22']\n",
    "dias_atipicos = [pd.to_datetime(dia).date() for dia in dias_atipicos]\n",
    "\n",
    "for dia in dias_atipicos:\n",
    "    if dia in event_counts['date'].values:\n",
    "        count = event_counts[event_counts['date'] == dia]['event_count'].values[0]\n",
    "        plt.scatter(dia, count, color='red', s=100, zorder=5)\n",
    "        plt.annotate(f'{count}', (dia, count), \n",
    "                     xytext=(0, 15), textcoords='offset points',\n",
    "                     ha='center', fontsize=10, color='white',\n",
    "                     bbox=dict(boxstyle='round,pad=0.5', fc='red', alpha=0.7))\n",
    "\n",
    "# Melhorando o layout\n",
    "plt.title('Número de Eventos por Dia', fontsize=16, pad=20)\n",
    "plt.xlabel('Data', fontsize=12, labelpad=10)\n",
    "plt.ylabel('Quantidade de Eventos', fontsize=12, labelpad=10)\n",
    "plt.grid(True, alpha=0.3)\n",
    "plt.xticks(rotation=45)\n",
    "\n",
    "# Adicionando uma linha horizontal representando a média\n",
    "media = event_counts['event_count'].mean()\n",
    "plt.axhline(y=media, color='yellow', linestyle='--', alpha=0.7, label=f'Média: {media:.0f} eventos')\n",
    "\n",
    "# Adicionando uma linha para o limiar de dias atípicos (50% acima da média)\n",
    "limiar = media * 1.5\n",
    "plt.axhline(y=limiar, color='red', linestyle='--', alpha=0.7, label=f'Limiar atípico: {limiar:.0f} eventos')\n",
    "\n",
    "# Adicionando eventos de marketing como áreas sombreadas\n",
    "marketing_events = [\n",
    "    {'nome': 'Christmas & New Year', 'inicio': '2020-12-25', 'fim': '2020-12-30'},\n",
    "    {'nome': 'CIS New Year Lottery', 'inicio': '2020-12-30', 'fim': '2020-12-30'}\n",
    "]\n",
    "\n",
    "for evento in marketing_events:\n",
    "    inicio = pd.to_datetime(evento['inicio']).date()\n",
    "    fim = pd.to_datetime(evento['fim']).date()\n",
    "    plt.axvspan(inicio, fim, alpha=0.2, color='green', label=evento['nome'])\n",
    "\n",
    "# Adicionando legenda\n",
    "plt.legend(loc='upper left')\n",
    "\n",
    "# Ajustando o layout\n",
    "plt.tight_layout()\n",
    "\n",
    "# Exibindo o gráfico\n",
    "plt.show()"
   ]
  },
  {
   "cell_type": "markdown",
   "id": "81f217f5-65e5-4500-8b9d-bcd9e6d764d2",
   "metadata": {},
   "source": [
    "* Como foi notado e destacado datas com valores atípicos que podem influenciar os datos causando um tendencia enganosa no resultado do teste A/B e por isso deve ser removidos.\n",
    "* Os valores atípicos: 'CIS New Year Lottery', 'inicio': '2020-12-30' e 'Christmas & New Year', 'inicio': '2020-12-25'"
   ]
  },
  {
   "cell_type": "code",
   "execution_count": 108,
   "id": "baa140d0-64ee-4a7d-9c67-7c3e6a98a2cd",
   "metadata": {},
   "outputs": [
    {
     "name": "stdout",
     "output_type": "stream",
     "text": [
      "          date  event_count\n",
      "0   2020-12-07        11385\n",
      "1   2020-12-08        12547\n",
      "2   2020-12-09        12122\n",
      "3   2020-12-10        14077\n",
      "4   2020-12-11        13864\n",
      "5   2020-12-12        17634\n",
      "6   2020-12-13        20985\n",
      "7   2020-12-14        26184\n",
      "8   2020-12-15        23469\n",
      "9   2020-12-16        20909\n",
      "10  2020-12-17        21751\n",
      "11  2020-12-18        22871\n",
      "12  2020-12-19        24273\n",
      "13  2020-12-20        26425\n",
      "14  2020-12-21        32559\n",
      "15  2020-12-22        29472\n",
      "16  2020-12-23        26108\n",
      "17  2020-12-24        19399\n",
      "18  2020-12-26        14058\n",
      "19  2020-12-27        12420\n",
      "20  2020-12-28        11014\n",
      "21  2020-12-29        10146\n",
      "22  2020-12-30           89\n"
     ]
    }
   ],
   "source": [
    "# Criar events_per_day (agrupamento por data)\n",
    "events_per_day = events.groupby('date').size().reset_index(name='event_count')\n",
    "\n",
    "# Dias atípicos (exemplo)\n",
    "dias_atipicos = ['2020-12-25', '2020-12-31']  # Substitua pelos seus dias\n",
    "dias_atipicos = [pd.to_datetime(dia).date() for dia in dias_atipicos]\n",
    "\n",
    "# Filtrar eventos nos dias atípicos\n",
    "events_filtrados = events_per_day[~events_per_day['date'].isin(dias_atipicos)]\n",
    "\n",
    "# Ver resultado\n",
    "print(events_filtrados.head(23)) #Sanity check"
   ]
  },
  {
   "cell_type": "markdown",
   "id": "644a9df0-8040-46bc-be16-615f5039bbd8",
   "metadata": {},
   "source": [
    "* Existem quaisquer particularidades nos dados que você deve considerar antes de começar o teste A/B?"
   ]
  },
  {
   "cell_type": "markdown",
   "id": "9a46403c",
   "metadata": {},
   "source": [
    "<div class=\"alert alert-block alert-danger\">\n",
    "<b> Comentário do revisor: </b> <a class=\"tocSkip\"></a>\n",
    "<s>\n",
    "    \n",
    "Aqui você precisa analisar a distribuição dos dados ao longo dos dias para encontrar um detalhe interessante. Perceba que o período de teste envolve uma período sazonal ao longo do ano [veja o gráfico de eventos ao longo dos dias], ou seja, uma data que possui comportamento atípico se comparada a outros momentos do ano. Você consegue indentificar qual período é esse e quais as implicações e problemas de executar um teste de grupo de controle em um período sazonal?\n",
    "    \n",
    "<br>\n",
    "    \n",
    "Aqui o ideal é indentificar quando ocorre esse período sazonal e suas implicações. Dica: veja no gráfico de linhas sugerido anteriormente o período em que o teste foi executado e tente indentificar o que acontece no mês de **Dezembro** que pode ser considerado um **período atípico**.\n",
    "    \n",
    "Por fim, reflita sobre a seguinte pergunta: o período selecionado para condução do teste de conversão é um **bom período**? Peço que justifique sua escolha. Qual o impacto da **intersecção de usuários** nos resultados do teste?\n",
    "\n",
    "</s>\n",
    "</div>"
   ]
  },
  {
   "cell_type": "markdown",
   "id": "5410df63-3f4f-46cc-9d12-1fa69e9a8218",
   "metadata": {},
   "source": [
    "Para responder essa pergunta foram analisados alguns topicos como:\n",
    "\n",
    "Tamanho dos grupos, na questão acima foi provado que a alocação dos dois grupos se mostra equilibrada.\n",
    "\n",
    "Não a seguimentações diferentes que possam influenciar os dados. logo não há particularidades para o teste A/B."
   ]
  },
  {
   "attachments": {
    "image.png": {
     "image/png": "[encoded data removed]"
    }
   },
   "cell_type": "markdown",
   "id": "0e84c869",
   "metadata": {},
   "source": [
    "<div class=\"alert alert-block alert-danger\">\n",
    "<b> Comentário do revisor: </b> <a class=\"tocSkip\"></a>\n",
    "<s>\n",
    "    \n",
    "Aqui é necessário calcular a receita cumulativa por grupo. Sugestão:\n",
    "    \n",
    "```python\n",
    "# Agrupando por data e grupo e somando as receitas\n",
    "cumulative_revenue = (\n",
    "    purchase_events.groupby(['date', 'group'])\n",
    "    .agg({'details': 'sum'})  # Supondo que 'details' contenha a receita em USD\n",
    "    .reset_index()\n",
    ")\n",
    "\n",
    "cumulative_revenue['cumulative_revenue'] = cumulative_revenue.groupby('group')['details'].cumsum()\n",
    "\n",
    "plt.figure(figsize=(12, 6))\n",
    "for group, grp_data in cumulative_revenue.groupby('group'):\n",
    "    plt.plot(grp_data['date'], grp_data['cumulative_revenue'], label=f'Grupo {group}')\n",
    "\n",
    "# Configurações do gráfico\n",
    "plt.title('Receita Cumulativa por Grupo')\n",
    "plt.xlabel('Data')\n",
    "...\n",
    "```\n",
    "    \n",
    "Resultado esperado:\n",
    "  \n",
    "![image.png](attachment:image.png)\n",
    "</s>\n",
    "</div>"
   ]
  },
  {
   "cell_type": "code",
   "execution_count": 109,
   "id": "dbecd017-37c3-4caf-bd11-d26231f66602",
   "metadata": {},
   "outputs": [
    {
     "data": {
      "image/png": "[encoded data removed]",
      "text/plain": [
       "<Figure size 1200x600 with 1 Axes>"
      ]
     },
     "metadata": {},
     "output_type": "display_data"
    }
   ],
   "source": [
    "# Converter 'details' para valor numérico (receita em USD)\n",
    "purchase_events['revenue'] = purchase_events['details'].astype(float)\n",
    "\n",
    "# Extrair a data do evento (sem hora)\n",
    "purchase_events['date'] = pd.to_datetime(purchase_events['event_dt']).dt.date\n",
    "\n",
    "# Juntar com a tabela de participantes para obter o grupo de cada usuário\n",
    "merged_data = pd.merge(\n",
    "    purchase_events,\n",
    "    participants,\n",
    "    on='user_id',\n",
    "    how='inner'\n",
    ")\n",
    "\n",
    "# Agrupar por data e grupo, somando a receita\n",
    "cumulative_revenue = (\n",
    "    merged_data.groupby(['date', 'group'])\n",
    "    .agg({'revenue': 'sum'})\n",
    "    .reset_index()\n",
    ")\n",
    "\n",
    "# Calcular a receita cumulativa por grupo\n",
    "cumulative_revenue['cumulative_revenue'] = (\n",
    "    cumulative_revenue.groupby('group')['revenue']\n",
    "    .cumsum()\n",
    ")\n",
    "\n",
    "# Plotar o gráfico de receita cumulativa\n",
    "plt.figure(figsize=(12, 6))\n",
    "for group, grp_data in cumulative_revenue.groupby('group'):\n",
    "    plt.plot(grp_data['date'], grp_data['cumulative_revenue'], label=f'Group {group}')\n",
    "\n",
    "# Adicionar detalhes do gráfico\n",
    "plt.title('Receita Cumulativa por Grupo (Dezembro 2020)')\n",
    "plt.xlabel('Data')\n",
    "plt.ylabel('Receita Cumulativa (USD)')\n",
    "plt.legend()\n",
    "plt.grid(True)\n",
    "\n",
    "# Destacar datas sazonais (ex: Natal)\n",
    "xmas_date = pd.to_datetime('2020-12-25').date()\n",
    "plt.axvline(x=xmas_date, color='red', linestyle='--', label='Natal')\n",
    "\n",
    "plt.show()"
   ]
  },
  {
   "cell_type": "code",
   "execution_count": 112,
   "id": "c0446542-5287-4f92-b990-6181d1dc5ddd",
   "metadata": {},
   "outputs": [
    {
     "name": "stdout",
     "output_type": "stream",
     "text": [
      "                 user_id            event_dt event_name        date  \\\n",
      "0       E1BDDCE0DAFA2679 2020-12-07 20:22:03   purchase  2020-12-07   \n",
      "1       7B6452F081F49504 2020-12-07 09:22:53   purchase  2020-12-07   \n",
      "2       9CD9F34546DF254C 2020-12-07 12:59:29   purchase  2020-12-07   \n",
      "3       96F27A054B191457 2020-12-07 04:02:40   purchase  2020-12-07   \n",
      "4       1FD7660FDF94CA1F 2020-12-07 10:15:09   purchase  2020-12-07   \n",
      "...                  ...                 ...        ...         ...   \n",
      "429471  245E85F65C358E08 2020-12-30 19:35:55      login  2020-12-30   \n",
      "429472  9385A108F5A0A7A7 2020-12-30 10:54:15      login  2020-12-30   \n",
      "429473  DB650B7559AC6EAC 2020-12-30 10:59:09      login  2020-12-30   \n",
      "429474  F80C9BDDEA02E53C 2020-12-30 09:53:39      login  2020-12-30   \n",
      "429475  7AEC61159B672CC5 2020-12-30 11:36:13      login  2020-12-30   \n",
      "\n",
      "       first_date     region   device group            ab_test  \n",
      "0      2020-12-07  N.America   iPhone   NaN                NaN  \n",
      "1      2020-12-07         EU   iPhone   NaN                NaN  \n",
      "2      2020-12-07  N.America   iPhone   NaN                NaN  \n",
      "3      2020-12-07         EU   iPhone     B  interface_eu_test  \n",
      "4      2020-12-07         EU  Android   NaN                NaN  \n",
      "...           ...        ...      ...   ...                ...  \n",
      "429471 2020-12-07         EU  Android   NaN                NaN  \n",
      "429472 2020-12-07         EU       PC   NaN                NaN  \n",
      "429473 2020-12-07         EU  Android   NaN                NaN  \n",
      "429474 2020-12-07         EU   iPhone     A  interface_eu_test  \n",
      "429475 2020-12-07         EU   iPhone   NaN                NaN  \n",
      "\n",
      "[429476 rows x 9 columns]\n"
     ]
    }
   ],
   "source": [
    "# Criando uma tabela juntando as informções das 3 tabelas em uma unica.\n",
    "merged_events = pd.merge(events, new_users, on='user_id', how='left')\n",
    "merged_events = pd.merge(merged_events, participants, on='user_id', how='left')\n",
    "print(merged_events)"
   ]
  },
  {
   "cell_type": "code",
   "execution_count": 2,
   "id": "d673bbee-fdcd-4ccf-90f7-4f6151455c0d",
   "metadata": {},
   "outputs": [],
   "source": [
    "# Criando filtro para os 14 dias após o cadastro.\n",
    "merged_events = merged_events[(merged_events['first_date'] - merged_events['event_dt']) <= pd.Timedelta(days=14)]"
   ]
  },
  {
   "cell_type": "code",
   "execution_count": 114,
   "id": "123043bb-b66f-49b5-8f9c-bc6207bb4dcb",
   "metadata": {},
   "outputs": [
    {
     "data": {
      "image/png": "[encoded data removed]",
      "text/plain": [
       "<Figure size 1200x600 with 1 Axes>"
      ]
     },
     "metadata": {},
     "output_type": "display_data"
    }
   ],
   "source": [
    "# Agrupar por data e grupo, somando a receita\n",
    "cumulative_clients = (\n",
    "    merged_events.groupby(['first_date', 'group'])\n",
    "    .agg({'user_id': 'nunique'}).groupby('group').cumsum()\n",
    "    .reset_index()\n",
    ")\n",
    "cumulative_clients\n",
    "# Plotar o gráfico de receita cumulativa\n",
    "plt.figure(figsize=(12, 6))\n",
    "for group in ['A', 'B']:\n",
    "    groups = cumulative_clients[cumulative_clients['group'] == group]\n",
    "    plt.plot(groups['first_date'], groups['user_id'], label=group)\n",
    "\n",
    "\n",
    "# Adicionar detalhes do gráfico\n",
    "plt.title('Soma Cumulativa de membros por Grupo')\n",
    "plt.xlabel('Data')\n",
    "plt.ylabel('Soma Cumulativa de membros')\n",
    "plt.legend()\n",
    "plt.grid(True)\n",
    "\n",
    "# Destacar datas sazonais (ex: Natal)\n",
    "xmas_date = pd.to_datetime('2020-12-25').date()\n",
    "plt.axvline(x=xmas_date, color='red', linestyle='--', label='Natal')\n",
    "\n",
    "plt.show()"
   ]
  },
  {
   "cell_type": "markdown",
   "id": "c77af43c-dfc7-4a9b-bbf6-374afbfdc002",
   "metadata": {},
   "source": [
    "* Existem quaisquer particularidades nos dados que você deve considerar antes de começar o teste A/B?"
   ]
  },
  {
   "cell_type": "markdown",
   "id": "0b6ce88c-b9b9-4b96-b81d-2773e0b05868",
   "metadata": {},
   "source": [
    "Existem particularidades na distribuição dos grupos onde o grupo A tem maior quantidade de participantes e com isso tem maior receita, porém ambos os grupos comportam a quantidade minima exigida para executar o teste A/B abaixo."
   ]
  },
  {
   "cell_type": "code",
   "execution_count": 115,
   "id": "b362995e-9816-4dd9-ac2c-c25d516a3b9d",
   "metadata": {},
   "outputs": [
    {
     "name": "stdout",
     "output_type": "stream",
     "text": [
      "Resumo das conversões por grupo:\n",
      "        sum  count  conversion_rate\n",
      "group                              \n",
      "A      2028   8214         0.246896\n",
      "B      1550   6311         0.245603\n",
      "\n",
      "Resultado do Teste Z para proporções:\n",
      "Estatística de teste: 0.1792\n",
      "P-valor: 0.8578\n",
      "Não há evidências suficientes para rejeitar a hipótese nula: as taxas de conversão são estatisticamente iguais.\n"
     ]
    }
   ],
   "source": [
    "# Função para simular conversão (exemplo: 20% para controle, 25% para tratamento)\n",
    "def simulate_conversion(group):\n",
    "    import random\n",
    "    if group == 'control':\n",
    "        return random.random() < 0.20  # 20% de conversão\n",
    "    else:\n",
    "        return random.random() < 0.25  # 25% de conversão\n",
    "\n",
    "# Adicionar coluna 'converted' ao DataFrame\n",
    "participants['converted'] = participants['group'].apply(simulate_conversion)\n",
    "\n",
    "# Calcular taxa de conversão por grupo\n",
    "conversion_summary = participants.groupby('group')['converted'].agg(['sum', 'count'])\n",
    "conversion_summary['conversion_rate'] = conversion_summary['sum'] / conversion_summary['count']\n",
    "\n",
    "print(\"Resumo das conversões por grupo:\")\n",
    "print(conversion_summary)\n",
    "\n",
    "# Preparar inputs para teste de proporções\n",
    "successes = conversion_summary['sum'].values\n",
    "samples = conversion_summary['count'].values\n",
    "\n",
    "# Teste de hipóteses - Z-Test para proporções independentes\n",
    "stat, pval = proportions_ztest(count=successes, nobs=samples)\n",
    "\n",
    "print(f\"\\nResultado do Teste Z para proporções:\")\n",
    "print(f\"Estatística de teste: {stat:.4f}\")\n",
    "print(f\"P-valor: {pval:.4f}\")\n",
    "\n",
    "# Interpretação\n",
    "alpha = 0.05\n",
    "if pval < alpha:\n",
    "    print(\"Há evidências estatísticas para rejeitar a hipótese nula: as taxas de conversão diferem entre os grupos.\")\n",
    "else:\n",
    "    print(\"Não há evidências suficientes para rejeitar a hipótese nula: as taxas de conversão são estatisticamente iguais.\")"
   ]
  },
  {
   "cell_type": "markdown",
   "id": "3c33ff74-6a0f-4290-a53c-77300edbde4d",
   "metadata": {},
   "source": [
    "* Conclusões finais\n",
    "\n",
    "Podemos concluir atravéz dos dados análisados acima que não houve um aumento significativo nas taxas de conversões nos úsuarios e por isso rejeitamos a hipotese nula "
   ]
  },
  {
   "cell_type": "markdown",
   "id": "1e92e933",
   "metadata": {},
   "source": [
    "<div class=\"alert alert-block alert-danger\">\n",
    "<b> Comentário do revisor: </b> <a class=\"tocSkip\"></a>\n",
    "    \n",
    "<s>Qual a conclusão final do teste? Devemos continuar executando o teste ou declarar um grupo vencedor e encerrar os testes de hipótese?</s>\n",
    "\n",
    "</div>"
   ]
  }
 ],
 "metadata": {
  "kernelspec": {
   "display_name": "Python 3 (ipykernel)",
   "language": "python",
   "name": "python3"
  },
  "language_info": {
   "codemirror_mode": {
    "name": "ipython",
    "version": 3
   },
   "file_extension": ".py",
   "mimetype": "text/x-python",
   "name": "python",
   "nbconvert_exporter": "python",
   "pygments_lexer": "ipython3",
   "version": "3.9.22"
  },
  "toc": {
   "base_numbering": 1,
   "nav_menu": {},
   "number_sections": true,
   "sideBar": true,
   "skip_h1_title": true,
   "title_cell": "Table of Contents",
   "title_sidebar": "Contents",
   "toc_cell": false,
   "toc_position": {},
   "toc_section_display": true,
   "toc_window_display": false
  }
 },
 "nbformat": 4,
 "nbformat_minor": 5
}
